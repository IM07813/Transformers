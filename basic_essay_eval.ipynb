{
  "nbformat": 4,
  "nbformat_minor": 0,
  "metadata": {
    "colab": {
      "provenance": [],
      "mount_file_id": "1qFUSPA6P5OFaDqtwOZji4UKzxLeA-MuG",
      "authorship_tag": "ABX9TyN/OXgmXBBm6uyHiLtYURRe",
      "include_colab_link": true
    },
    "kernelspec": {
      "name": "python3",
      "display_name": "Python 3"
    },
    "language_info": {
      "name": "python"
    }
  },
  "cells": [
    {
      "cell_type": "markdown",
      "metadata": {
        "id": "view-in-github",
        "colab_type": "text"
      },
      "source": [
        "<a href=\"https://colab.research.google.com/github/IM07813/Transformers/blob/main/basic_essay_eval.ipynb\" target=\"_parent\"><img src=\"https://colab.research.google.com/assets/colab-badge.svg\" alt=\"Open In Colab\"/></a>"
      ]
    },
    {
      "cell_type": "code",
      "execution_count": 1,
      "metadata": {
        "colab": {
          "base_uri": "https://localhost:8080/"
        },
        "id": "AcHZRyDcZz88",
        "outputId": "73a4632d-565f-4270-9caa-08c109357dfe"
      },
      "outputs": [
        {
          "output_type": "stream",
          "name": "stdout",
          "text": [
            "\u001b[2K     \u001b[90m━━━━━━━━━━━━━━━━━━━━━━━━━━━━━━━━━━━━━━━\u001b[0m \u001b[32m150.4/150.4 kB\u001b[0m \u001b[31m6.2 MB/s\u001b[0m eta \u001b[36m0:00:00\u001b[0m\n",
            "\u001b[2K     \u001b[90m━━━━━━━━━━━━━━━━━━━━━━━━━━━━━━━━━━━━━━━━\u001b[0m \u001b[32m17.0/17.0 MB\u001b[0m \u001b[31m58.7 MB/s\u001b[0m eta \u001b[36m0:00:00\u001b[0m\n",
            "\u001b[2K     \u001b[90m━━━━━━━━━━━━━━━━━━━━━━━━━━━━━━━━━━━━━━━━\u001b[0m \u001b[32m6.0/6.0 MB\u001b[0m \u001b[31m57.8 MB/s\u001b[0m eta \u001b[36m0:00:00\u001b[0m\n",
            "\u001b[?25h"
          ]
        }
      ],
      "source": [
        "!pip install -q tensorflow_ranking\n",
        "!pip install -q tensorflow_text"
      ]
    },
    {
      "cell_type": "code",
      "source": [
        "import pandas as pd \n",
        "df = pd.read_csv(\"/content/drive/MyDrive/essay-scores.csv\", encoding='latin1')\n",
        "df.shape"
      ],
      "metadata": {
        "colab": {
          "base_uri": "https://localhost:8080/"
        },
        "id": "nEmXdAJggBhL",
        "outputId": "2a5b6c09-e891-4d82-ad10-59fcc43538f9"
      },
      "execution_count": 9,
      "outputs": [
        {
          "output_type": "execute_result",
          "data": {
            "text/plain": [
              "(10692, 2)"
            ]
          },
          "metadata": {},
          "execution_count": 9
        }
      ]
    },
    {
      "cell_type": "markdown",
      "source": [
        "##data cleaning using pandas"
      ],
      "metadata": {
        "id": "qzCGegSDdO-x"
      }
    },
    {
      "cell_type": "code",
      "source": [
        "\n",
        "import pandas as pd\n",
        "\n",
        "\n",
        "df = pd.read_csv(\"/content/drive/MyDrive/essay-scores.csv\", encoding='latin1')\n",
        "\n",
        "\n",
        "df = df[df[\"scores\"] != 0]\n",
        "\n",
        "\n",
        "df.to_csv(\"essay_dataset_modified.csv\", index=False)"
      ],
      "metadata": {
        "id": "627sM3MIaL4k"
      },
      "execution_count": 7,
      "outputs": []
    },
    {
      "cell_type": "code",
      "source": [
        "df2 = pd.read_csv(\"/content/essay_dataset_modified.csv\", encoding='latin1')\n",
        "df2.shape"
      ],
      "metadata": {
        "colab": {
          "base_uri": "https://localhost:8080/"
        },
        "id": "eaKiOuj-exKd",
        "outputId": "ee16b1d6-9cf1-4267-8e6f-ca61754087d5"
      },
      "execution_count": 10,
      "outputs": [
        {
          "output_type": "execute_result",
          "data": {
            "text/plain": [
              "(10225, 2)"
            ]
          },
          "metadata": {},
          "execution_count": 10
        }
      ]
    },
    {
      "cell_type": "code",
      "source": [
        "df2.tail"
      ],
      "metadata": {
        "colab": {
          "base_uri": "https://localhost:8080/"
        },
        "id": "VYATi9PRggKL",
        "outputId": "e592d0dd-dcd1-49fc-da8d-a2725b5c26ff"
      },
      "execution_count": 12,
      "outputs": [
        {
          "output_type": "execute_result",
          "data": {
            "text/plain": [
              "<bound method NDFrame.tail of                                                    essay  scores\n",
              "0      Dear local newspaper, I think effects computer...     4.0\n",
              "1      Dear @CAPS1 @CAPS2, I believe that using compu...     4.0\n",
              "2      Dear, @CAPS1 @CAPS2 @CAPS3 More and more peopl...     3.0\n",
              "3      Dear Local Newspaper, @CAPS1 I have found that...     5.0\n",
              "4      Dear @LOCATION1, I know having computers has a...     4.0\n",
              "...                                                  ...     ...\n",
              "10220                                                NaN     NaN\n",
              "10221                                                NaN     NaN\n",
              "10222                                                NaN     NaN\n",
              "10223                                                NaN     NaN\n",
              "10224                                                NaN     NaN\n",
              "\n",
              "[10225 rows x 2 columns]>"
            ]
          },
          "metadata": {},
          "execution_count": 12
        }
      ]
    },
    {
      "cell_type": "code",
      "source": [
        "df3 = df2.dropna()\n",
        "\n",
        "# Save the modified dataframe to a new csv file\n",
        "df.to_csv(\"essay_dataset_modified_v2.csv\", index=False)"
      ],
      "metadata": {
        "id": "HfrGZfCXgjZZ"
      },
      "execution_count": 14,
      "outputs": []
    },
    {
      "cell_type": "code",
      "source": [
        "df3.shape"
      ],
      "metadata": {
        "colab": {
          "base_uri": "https://localhost:8080/"
        },
        "id": "762IULvThIKQ",
        "outputId": "d26de391-be4f-4f6d-af64-f401ddc6ae63"
      },
      "execution_count": 15,
      "outputs": [
        {
          "output_type": "execute_result",
          "data": {
            "text/plain": [
              "(10218, 2)"
            ]
          },
          "metadata": {},
          "execution_count": 15
        }
      ]
    },
    {
      "cell_type": "code",
      "source": [
        "df3.head"
      ],
      "metadata": {
        "colab": {
          "base_uri": "https://localhost:8080/"
        },
        "id": "YCevMPvzhJ2A",
        "outputId": "8ac29a2c-cada-49b7-fd5d-ed6cc6023056"
      },
      "execution_count": 16,
      "outputs": [
        {
          "output_type": "execute_result",
          "data": {
            "text/plain": [
              "<bound method NDFrame.head of                                                    essay  scores\n",
              "0      Dear local newspaper, I think effects computer...     4.0\n",
              "1      Dear @CAPS1 @CAPS2, I believe that using compu...     4.0\n",
              "2      Dear, @CAPS1 @CAPS2 @CAPS3 More and more peopl...     3.0\n",
              "3      Dear Local Newspaper, @CAPS1 I have found that...     5.0\n",
              "4      Dear @LOCATION1, I know having computers has a...     4.0\n",
              "...                                                  ...     ...\n",
              "10214  There were many obstacles the builders of the ...     3.0\n",
              "10215  Some of the problems with the constructing of ...     2.0\n",
              "10216  The builders of the Empire State building face...     3.0\n",
              "10217  The obstacles the builders of the Empire State...     1.0\n",
              "10218  You want me to tell you what they had to go th...     2.0\n",
              "\n",
              "[10218 rows x 2 columns]>"
            ]
          },
          "metadata": {},
          "execution_count": 16
        }
      ]
    },
    {
      "cell_type": "code",
      "source": [],
      "metadata": {
        "id": "SGmsxvvnhMeQ"
      },
      "execution_count": null,
      "outputs": []
    }
  ]
}